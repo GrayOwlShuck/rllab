{
 "cells": [
  {
   "cell_type": "code",
   "execution_count": 1,
   "metadata": {},
   "outputs": [
    {
     "name": "stderr",
     "output_type": "stream",
     "text": [
      "/Users/florensacc/anaconda2/envs/rllab-maml/lib/python3.5/importlib/_bootstrap.py:222: RuntimeWarning: compiletime version 3.6 of module 'tensorflow.python.framework.fast_tensor_util' does not match runtime version 3.5\n",
      "  return f(*args, **kwds)\n",
      "/Users/florensacc/anaconda2/envs/rllab-maml/lib/python3.5/site-packages/h5py/__init__.py:34: FutureWarning: Conversion of the second argument of issubdtype from `float` to `np.floating` is deprecated. In future, it will be treated as `np.float64 == np.dtype(float).type`.\n",
      "  from ._conv import register_converters as _register_converters\n",
      "/Users/florensacc/anaconda2/envs/rllab-maml/lib/python3.5/site-packages/theano/tensor/signal/downsample.py:6: UserWarning: downsample module has been moved to the theano.tensor.signal.pool module.\n",
      "  \"downsample module has been moved to the theano.tensor.signal.pool module.\")\n",
      "/Users/florensacc/anaconda2/envs/rllab-maml/lib/python3.5/site-packages/matplotlib/__init__.py:1401: UserWarning:  This call to matplotlib.use() has no effect\n",
      "because the backend has already been chosen;\n",
      "matplotlib.use() must be called *before* pylab, matplotlib.pyplot,\n",
      "or matplotlib.backends is imported for the first time.\n",
      "\n",
      "  warnings.warn(_use_error_msg)\n"
     ]
    }
   ],
   "source": [
    "%matplotlib inline\n",
    "import matplotlib\n",
    "from matplotlib import pyplot as plt\n",
    "import pickle as pkl\n",
    "\n",
    "import argparse\n",
    "import os.path as osp\n",
    "import random\n",
    "from multiprocessing import cpu_count\n",
    "import numpy as np\n",
    "import tensorflow as tf\n",
    "\n",
    "from rllab import config\n",
    "from rllab.baselines.gaussian_mlp_baseline import GaussianMLPBaseline\n",
    "from rllab.baselines.linear_feature_baseline import LinearFeatureBaseline\n",
    "from rllab.baselines.zero_baseline import ZeroBaseline\n",
    "from rllab.envs.normalized_env import normalize\n",
    "from rllab.misc import logger\n",
    "from rllab.misc.instrument import VariantGenerator\n",
    "from rllab.misc.instrument import run_experiment_lite\n",
    "from sandbox.carlos.point_env_randgoal import PointEnvRandGoal, StraightDemo\n",
    "from sandbox.rocky.tf.algos.sensitive_lfd_trpo import SensitiveLfD_TRPO\n",
    "from sandbox.rocky.tf.envs.base import TfEnv\n",
    "from sandbox.rocky.tf.policies.sens_lfd_minimal_gauss_mlp_policy import SensitiveLfdGaussianMLPPolicy\n",
    "from sandbox.rocky.tf.policies.gaussian_mlp_policy import GaussianMLPPolicy\n",
    "from sandbox.young_clgan.logging import HTMLReport\n",
    "from sandbox.young_clgan.logging import format_dict"
   ]
  },
  {
   "cell_type": "code",
   "execution_count": 2,
   "metadata": {
    "collapsed": true
   },
   "outputs": [],
   "source": [
    "v={'env_noise': 0.01, \n",
    "   'tolerance': 0.1, \n",
    "   'fast_learning_rate': 0.001, \n",
    "   'max_path_length': 100, \n",
    "   'num_grad_updates': 1, \n",
    "   'meta_step_size': 0.01,\n",
    "   'demo_batch_size': 100,\n",
    "   'batch_size': 1000,\n",
    "   'discount': 0.99}"
   ]
  },
  {
   "cell_type": "code",
   "execution_count": 3,
   "metadata": {
    "collapsed": true
   },
   "outputs": [],
   "source": [
    "env = TfEnv(normalize(PointEnvRandGoal(noise=v['env_noise'], tolerance=v['tolerance'])))"
   ]
  },
  {
   "cell_type": "code",
   "execution_count": 4,
   "metadata": {},
   "outputs": [],
   "source": [
    "policy = SensitiveLfdGaussianMLPPolicy(\n",
    "    name=\"policy\",\n",
    "    env_spec=env.spec,\n",
    "    grad_step_size=v['fast_learning_rate'],\n",
    "    hidden_nonlinearity=tf.nn.relu,\n",
    "    hidden_sizes=(100, 100),\n",
    ")\n",
    "\n",
    "demo_policy = StraightDemo(env_spec=env.spec)"
   ]
  },
  {
   "cell_type": "code",
   "execution_count": 5,
   "metadata": {
    "collapsed": true
   },
   "outputs": [],
   "source": [
    "obs_demo_vars = env.observation_space.new_tensor_variable(\n",
    "    'demo_obs',\n",
    "    extra_dims=1,\n",
    "    )\n",
    "action_demo_vars = env.action_space.new_tensor_variable(\n",
    "    'demo_actions',\n",
    "    extra_dims=1,\n",
    "    )"
   ]
  },
  {
   "cell_type": "code",
   "execution_count": 6,
   "metadata": {
    "collapsed": true
   },
   "outputs": [],
   "source": [
    "dist = policy.distribution"
   ]
  },
  {
   "cell_type": "code",
   "execution_count": 7,
   "metadata": {
    "collapsed": true
   },
   "outputs": [],
   "source": [
    "old_dist_info_demo_vars = {\n",
    "    k: tf.placeholder(tf.float32, shape=[None] + list(shape), name='old_%s' % (k))\n",
    "    for k, shape in dist.dist_info_specs\n",
    "    }\n",
    "old_dist_info_vars_demo_list = [old_dist_info_demo_vars[k] for k in dist.dist_info_keys] # list version of the dict"
   ]
  },
  {
   "cell_type": "code",
   "execution_count": 8,
   "metadata": {},
   "outputs": [
    {
     "data": {
      "text/plain": [
       "<tf.Tensor 'bc_loss:0' shape=() dtype=string>"
      ]
     },
     "execution_count": 8,
     "metadata": {},
     "output_type": "execute_result"
    }
   ],
   "source": [
    "input_list = [obs_demo_vars, action_demo_vars]\n",
    "\n",
    "dist_info_demo_vars, params = policy.dist_info_sym(obs_demo_vars, all_params=policy.all_params)\n",
    "\n",
    "kl = dist.kl_sym(old_dist_info_demo_vars, dist_info_demo_vars)\n",
    "\n",
    "logli_demo = dist.log_likelihood_sym(action_demo_vars, dist_info_demo_vars)\n",
    "\n",
    "bc_loss = - tf.reduce_mean(logli_demo)\n",
    "tf.summary.scalar('bc_loss', bc_loss)"
   ]
  },
  {
   "cell_type": "code",
   "execution_count": 9,
   "metadata": {
    "collapsed": true
   },
   "outputs": [],
   "source": [
    "def update_dist_info_lfd_sym(surr_obj, params, step_size=0.01):\n",
    "\n",
    "    gradients = dict(\n",
    "        zip(update_param_keys, tf.gradients(surr_obj, [params[key] for key in update_param_keys])))\n",
    "    new_params = dict(\n",
    "        zip(update_param_keys, [params[key] - step_size * gradients[key] for key in update_param_keys]))\n",
    "    \n",
    "    return new_params"
   ]
  },
  {
   "cell_type": "code",
   "execution_count": 10,
   "metadata": {
    "collapsed": true
   },
   "outputs": [],
   "source": [
    "update_param_keys = params.keys()\n",
    "step_size = 0.001 # define this as input to function\n",
    "\n",
    "new_params = update_dist_info_lfd_sym(bc_loss, params, step_size)\n",
    "\n",
    "new_dist_info_demo_vars, new_params = policy.dist_info_sym(obs_demo_vars, all_params=new_params)  # try to replace policy!!"
   ]
  },
  {
   "cell_type": "code",
   "execution_count": 11,
   "metadata": {
    "collapsed": true
   },
   "outputs": [],
   "source": [
    "sess = tf.InteractiveSession()\n",
    "initializer = tf.global_variables_initializer()\n",
    "sess.run(initializer)"
   ]
  },
  {
   "cell_type": "code",
   "execution_count": 12,
   "metadata": {
    "collapsed": true
   },
   "outputs": [],
   "source": [
    "# I should be done constructing the graph for the simple LFD update. Let's try it out!"
   ]
  },
  {
   "cell_type": "code",
   "execution_count": 13,
   "metadata": {},
   "outputs": [
    {
     "name": "stderr",
     "output_type": "stream",
     "text": [
      "/Users/florensacc/anaconda2/envs/rllab-maml/lib/python3.5/site-packages/tensorflow/python/client/session.py:1711: UserWarning: An interactive session is already active. This can cause out-of-memory errors in some cases. You must explicitly call `InteractiveSession.close()` to release resources held by the other session(s).\n",
      "  warnings.warn('An interactive session is already active. This can '\n"
     ]
    }
   ],
   "source": [
    "from rllab.sampler.utils import rollout, rollout_demo\n",
    "sess = tf.InteractiveSession()\n",
    "\n",
    "start = env.reset(objective_params=[3,3])\n",
    "goal = env.objective_params\n",
    "\n",
    "initializer = tf.global_variables_initializer()\n",
    "sess.run(initializer)\n",
    "\n",
    "demos = [rollout_demo(env, demo_policy, v['max_path_length']) for _ in range(v['demo_batch_size'])]\n",
    "demos_flat_obs = np.concatenate([demo['observations'] for demo in demos], axis=0)\n",
    "demos_flat_act = np.concatenate([demo['actions'] for demo in demos], axis=0)"
   ]
  },
  {
   "cell_type": "code",
   "execution_count": 14,
   "metadata": {},
   "outputs": [
    {
     "data": {
      "text/plain": [
       "[<matplotlib.lines.Line2D at 0x1242d0b00>]"
      ]
     },
     "execution_count": 14,
     "metadata": {},
     "output_type": "execute_result"
    },
    {
     "data": {
      "image/png": "[encoded data removed]",
      "text/plain": [
       "<matplotlib.figure.Figure at 0x1242069b0>"
      ]
     },
     "metadata": {},
     "output_type": "display_data"
    }
   ],
   "source": [
    "plt.plot(*goal, 'r*', markersize=10)\n",
    "plt.plot(*start, 'b*', markersize=10)\n",
    "plt.plot(demos[0]['observations'][:, 0], demos[0]['observations'][:, 1], '-.g', linewidth=2)"
   ]
  },
  {
   "cell_type": "code",
   "execution_count": 15,
   "metadata": {
    "collapsed": true
   },
   "outputs": [],
   "source": [
    "# from rllab.sampler.utils import rollout\n",
    "# pre_update = rollout(env, policy, v['max_path_length'])"
   ]
  },
  {
   "cell_type": "code",
   "execution_count": 16,
   "metadata": {
    "collapsed": true
   },
   "outputs": [],
   "source": [
    "input_list_dict = {obs_demo_vars : demos_flat_obs, action_demo_vars : demos_flat_act}"
   ]
  },
  {
   "cell_type": "code",
   "execution_count": 17,
   "metadata": {},
   "outputs": [
    {
     "name": "stdout",
     "output_type": "stream",
     "text": [
      "<tensorflow.python.client.session.InteractiveSession object at 0x124206ef0>\n"
     ]
    }
   ],
   "source": [
    "print(tf.get_default_session())"
   ]
  },
  {
   "cell_type": "code",
   "execution_count": 18,
   "metadata": {
    "collapsed": true
   },
   "outputs": [],
   "source": [
    "merged = tf.summary.merge_all()\n",
    "train_writer = tf.summary.FileWriter('data/tf_summaries/',\n",
    "                                      sess.graph)\n",
    "\n",
    "summary, bc_loss_val, new_params_vals = sess.run([merged, bc_loss, new_params], feed_dict=input_list_dict)\n",
    "\n",
    "train_writer.add_summary(summary, 0)"
   ]
  },
  {
   "cell_type": "code",
   "execution_count": 19,
   "metadata": {},
   "outputs": [
    {
     "name": "stdout",
     "output_type": "stream",
     "text": [
      "Loss after update 0: 2.402267\n",
      "Loss after update 0: 2.402267\n",
      "Loss after update 500: 1.646438\n",
      "Loss after update 1000: 0.948864\n",
      "Loss after update 1500: 0.080373\n",
      "Loss after update 2000: -0.644880\n",
      "Loss after update 2500: -1.442516\n",
      "Loss after update 3000: -1.780455\n",
      "Loss after update 3500: -1.995752\n",
      "Loss after update 4000: -2.246311\n",
      "Loss after update 4500: -2.391720\n"
     ]
    }
   ],
   "source": [
    "from sandbox.rocky.tf.envs.vec_env_executor import VecEnvExecutor\n",
    "vect_env = VecEnvExecutor(envs=[env], max_path_length=v['max_path_length'])\n",
    "\n",
    "bc_loss_val = sess.run(bc_loss, feed_dict=input_list_dict)\n",
    "exp_name = 'LFD_noise{}_lr{}_demos{}'.format(v['env_noise'], v['fast_learning_rate'], v['demo_batch_size'])\n",
    "print('Loss after update %d: %f' % (0, bc_loss_val))\n",
    "losses = []\n",
    "paths = []\n",
    "for i in range(5000):  # for more steps I should \n",
    "    bc_loss_val, new_params_vals = sess.run([bc_loss, new_params], feed_dict=input_list_dict)\n",
    "    policy.assign_params(policy.all_params, new_params_vals)\n",
    "    losses.append(bc_loss_val)\n",
    "    if i % 500 == 0:\n",
    "        print('Loss after update %d: %f' % (i, bc_loss_val))\n",
    "        paths.append(rollout(vect_env, policy, v['max_path_length']))\n",
    "\n",
    "with open('Figures/lfd/'+exp_name+'_loss.pkl', 'wb') as outfile:\n",
    "    pkl.dump(losses, outfile)"
   ]
  },
  {
   "cell_type": "code",
   "execution_count": 20,
   "metadata": {},
   "outputs": [
    {
     "data": {
      "image/png": "[encoded data removed]",
      "text/plain": [
       "<matplotlib.figure.Figure at 0x1246a9f98>"
      ]
     },
     "metadata": {},
     "output_type": "display_data"
    }
   ],
   "source": [
    "plt.clf()\n",
    "fig = plt.figure(1)\n",
    "ax = fig.add_subplot(111)\n",
    "ax.plot(*goal, 'r*', markersize=10, label='goal')\n",
    "ax.plot(*start, 'b*', markersize=10, label='start')\n",
    "ax.plot(demos[0]['observations'][:, 0], demos[0]['observations'][:, 1], '-.g', linewidth=2, label='demo')\n",
    "\n",
    "cmap = matplotlib.cm.get_cmap('Spectral')\n",
    "len_paths = len(paths)\n",
    "for i, path in enumerate(paths):\n",
    "    plt.plot(path['observations'][:, 0], path['observations'][:, 1], color=cmap(i/len_paths), linewidth=2, label='lfd after %i itr' % (i * 500))\n",
    "lgd = plt.legend(bbox_to_anchor=(1, 1))\n",
    "plt.savefig('Figures/lfd/'+exp_name+'.png', bbox_extra_artists=(lgd,), bbox_inches='tight')"
   ]
  },
  {
   "cell_type": "code",
   "execution_count": 21,
   "metadata": {},
   "outputs": [
    {
     "data": {
      "image/png": "[encoded data removed]",
      "text/plain": [
       "<matplotlib.figure.Figure at 0x1227357f0>"
      ]
     },
     "metadata": {},
     "output_type": "display_data"
    }
   ],
   "source": [
    "plt.plot(losses)\n",
    "plt.savefig('Figures/lfd/Loss_noise{}_lr{}_demos{}.png'.format(v['env_noise'], v['fast_learning_rate'], v['demo_batch_size']))"
   ]
  },
  {
   "cell_type": "code",
   "execution_count": null,
   "metadata": {
    "collapsed": true
   },
   "outputs": [],
   "source": []
  }
 ],
 "metadata": {
  "kernelspec": {
   "display_name": "Python 3",
   "language": "python",
   "name": "python3"
  },
  "language_info": {
   "codemirror_mode": {
    "name": "ipython",
    "version": 3
   },
   "file_extension": ".py",
   "mimetype": "text/x-python",
   "name": "python",
   "nbconvert_exporter": "python",
   "pygments_lexer": "ipython3",
   "version": "3.5.2"
  },
  "widgets": {
   "state": {},
   "version": "1.1.2"
  }
 },
 "nbformat": 4,
 "nbformat_minor": 2
}
