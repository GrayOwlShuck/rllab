{
 "cells": [
  {
   "cell_type": "code",
   "execution_count": 1,
   "metadata": {},
   "outputs": [
    {
     "name": "stderr",
     "output_type": "stream",
     "text": [
      "/Users/florensacc/anaconda2/envs/rllab-maml/lib/python3.5/importlib/_bootstrap.py:222: RuntimeWarning: compiletime version 3.6 of module 'tensorflow.python.framework.fast_tensor_util' does not match runtime version 3.5\n",
      "  return f(*args, **kwds)\n",
      "/Users/florensacc/anaconda2/envs/rllab-maml/lib/python3.5/site-packages/h5py/__init__.py:34: FutureWarning: Conversion of the second argument of issubdtype from `float` to `np.floating` is deprecated. In future, it will be treated as `np.float64 == np.dtype(float).type`.\n",
      "  from ._conv import register_converters as _register_converters\n",
      "/Users/florensacc/anaconda2/envs/rllab-maml/lib/python3.5/site-packages/theano/tensor/signal/downsample.py:6: UserWarning: downsample module has been moved to the theano.tensor.signal.pool module.\n",
      "  \"downsample module has been moved to the theano.tensor.signal.pool module.\")\n",
      "/Users/florensacc/anaconda2/envs/rllab-maml/lib/python3.5/site-packages/matplotlib/__init__.py:1401: UserWarning:  This call to matplotlib.use() has no effect\n",
      "because the backend has already been chosen;\n",
      "matplotlib.use() must be called *before* pylab, matplotlib.pyplot,\n",
      "or matplotlib.backends is imported for the first time.\n",
      "\n",
      "  warnings.warn(_use_error_msg)\n"
     ]
    }
   ],
   "source": [
    "%matplotlib inline\n",
    "from matplotlib import pyplot as plt\n",
    "\n",
    "import argparse\n",
    "import os.path as osp\n",
    "import random\n",
    "from multiprocessing import cpu_count\n",
    "\n",
    "import tensorflow as tf\n",
    "\n",
    "from rllab import config\n",
    "from rllab.baselines.gaussian_mlp_baseline import GaussianMLPBaseline\n",
    "from rllab.baselines.linear_feature_baseline import LinearFeatureBaseline\n",
    "from rllab.baselines.zero_baseline import ZeroBaseline\n",
    "from rllab.envs.normalized_env import normalize\n",
    "from rllab.misc import logger\n",
    "from rllab.misc.instrument import VariantGenerator\n",
    "from rllab.misc.instrument import run_experiment_lite\n",
    "from sandbox.carlos.point_env_randgoal import PointEnvRandGoal, StraightDemo\n",
    "from sandbox.rocky.tf.algos.sensitive_lfd_trpo import SensitiveLfD_TRPO\n",
    "from sandbox.rocky.tf.envs.base import TfEnv\n",
    "from sandbox.rocky.tf.policies.sens_lfd_minimal_gauss_mlp_policy import SensitiveLfdGaussianMLPPolicy\n",
    "from sandbox.rocky.tf.policies.gaussian_mlp_policy import GaussianMLPPolicy\n",
    "from sandbox.young_clgan.logging import HTMLReport\n",
    "from sandbox.young_clgan.logging import format_dict"
   ]
  },
  {
   "cell_type": "code",
   "execution_count": 2,
   "metadata": {
    "collapsed": true
   },
   "outputs": [],
   "source": [
    "v={'env_noise': 0.1, \n",
    "   'tolerance': 0.1, \n",
    "   'fast_learning_rate': 0.001, \n",
    "   'max_path_length': 100, \n",
    "   'num_grad_updates': 1, \n",
    "   'meta_step_size': 0.01,\n",
    "   'demo_batch_size': 1000,\n",
    "   'batch_size': 1000,\n",
    "   'discount': 0.99}"
   ]
  },
  {
   "cell_type": "code",
   "execution_count": 3,
   "metadata": {
    "collapsed": true
   },
   "outputs": [],
   "source": [
    "env = TfEnv(normalize(PointEnvRandGoal(noise=v['env_noise'], tolerance=v['tolerance'])))\n",
    "\n",
    "policy = SensitiveLfdGaussianMLPPolicy(\n",
    "    name=\"policy\",\n",
    "    env_spec=env.spec,\n",
    "    grad_step_size=v['fast_learning_rate'],\n",
    "    hidden_nonlinearity=tf.nn.relu,\n",
    "    hidden_sizes=(100, 100),\n",
    ")\n",
    "\n",
    "demo_policy = StraightDemo(env_spec=env.spec)"
   ]
  },
  {
   "cell_type": "code",
   "execution_count": 4,
   "metadata": {
    "collapsed": true
   },
   "outputs": [],
   "source": [
    "obs_demo_vars = env.observation_space.new_tensor_variable(\n",
    "    'demo_obs',\n",
    "    extra_dims=1,\n",
    "    )\n",
    "action_demo_vars = env.action_space.new_tensor_variable(\n",
    "    'demo_actions',\n",
    "    extra_dims=1,\n",
    "    )"
   ]
  },
  {
   "cell_type": "code",
   "execution_count": 5,
   "metadata": {
    "collapsed": true
   },
   "outputs": [],
   "source": [
    "dist = policy.distribution"
   ]
  },
  {
   "cell_type": "code",
   "execution_count": 6,
   "metadata": {
    "collapsed": true
   },
   "outputs": [],
   "source": [
    "old_dist_info_demo_vars = {\n",
    "    k: tf.placeholder(tf.float32, shape=[None] + list(shape), name='old_%s' % (k))\n",
    "    for k, shape in dist.dist_info_specs\n",
    "    }\n",
    "old_dist_info_vars_demo_list = [old_dist_info_demo_vars[k] for k in dist.dist_info_keys] # list version of the dict"
   ]
  },
  {
   "cell_type": "code",
   "execution_count": 7,
   "metadata": {},
   "outputs": [
    {
     "data": {
      "text/plain": [
       "<tf.Tensor 'bc_loss:0' shape=() dtype=string>"
      ]
     },
     "execution_count": 7,
     "metadata": {},
     "output_type": "execute_result"
    }
   ],
   "source": [
    "input_list = [obs_demo_vars, action_demo_vars]\n",
    "\n",
    "dist_info_demo_vars, params = policy.dist_info_sym(obs_demo_vars, all_params=policy.all_params)\n",
    "\n",
    "kl = dist.kl_sym(old_dist_info_demo_vars, dist_info_demo_vars)\n",
    "\n",
    "logli_demo = dist.log_likelihood_sym(action_demo_vars, dist_info_demo_vars)\n",
    "\n",
    "bc_loss = - tf.reduce_mean(logli_demo)\n",
    "tf.summary.scalar('bc_loss', bc_loss)"
   ]
  },
  {
   "cell_type": "code",
   "execution_count": 8,
   "metadata": {
    "collapsed": true
   },
   "outputs": [],
   "source": [
    "def update_dist_info_lfd_sym(surr_obj, params, step_size=0.01):\n",
    "\n",
    "    gradients = dict(\n",
    "        zip(update_param_keys, tf.gradients(surr_obj, [params[key] for key in update_param_keys])))\n",
    "    new_params = dict(\n",
    "        zip(update_param_keys, [params[key] - step_size * gradients[key] for key in update_param_keys]))\n",
    "    \n",
    "    return new_params"
   ]
  },
  {
   "cell_type": "code",
   "execution_count": 9,
   "metadata": {
    "collapsed": true
   },
   "outputs": [],
   "source": [
    "update_param_keys = params.keys()\n",
    "step_size = 0.001 # define this as input to function\n",
    "\n",
    "new_params = update_dist_info_lfd_sym(bc_loss, params, step_size)\n",
    "\n",
    "new_dist_info_demo_vars, new_params = policy.dist_info_sym(obs_demo_vars, all_params=new_params)  # try to replace policy!!"
   ]
  },
  {
   "cell_type": "code",
   "execution_count": 10,
   "metadata": {
    "collapsed": true
   },
   "outputs": [],
   "source": [
    "sess = tf.InteractiveSession()\n",
    "initializer = tf.global_variables_initializer()\n",
    "sess.run(initializer)\n",
    "\n"
   ]
  },
  {
   "cell_type": "code",
   "execution_count": 11,
   "metadata": {
    "collapsed": true
   },
   "outputs": [],
   "source": [
    "# I should be done constructing the graph for the simple LFD update. Let's try it out!"
   ]
  },
  {
   "cell_type": "code",
   "execution_count": 12,
   "metadata": {},
   "outputs": [
    {
     "name": "stdout",
     "output_type": "stream",
     "text": [
      "resetting env_goal to:  [0 0]\n"
     ]
    }
   ],
   "source": [
    "from rllab.sampler.utils import rollout_demo\n",
    "sess = tf.InteractiveSession()\n",
    "\n",
    "goal = env.reset(clean_reset=True)\n",
    "env.set_objective_params(goal)  # shouldn't need this\n",
    "\n",
    "initializer = tf.global_variables_initializer()\n",
    "sess.run(initializer)\n",
    "\n",
    "demo = rollout_demo(env, demo_policy, v['max_path_length'])"
   ]
  },
  {
   "cell_type": "code",
   "execution_count": 13,
   "metadata": {
    "collapsed": true
   },
   "outputs": [],
   "source": [
    "# from rllab.sampler.utils import rollout\n",
    "# pre_update = rollout(env, policy, v['max_path_length'])"
   ]
  },
  {
   "cell_type": "code",
   "execution_count": 14,
   "metadata": {
    "collapsed": true
   },
   "outputs": [],
   "source": [
    "input_list_dict = {obs_demo_vars : demo['observations'], action_demo_vars : demo['actions']}"
   ]
  },
  {
   "cell_type": "code",
   "execution_count": 15,
   "metadata": {},
   "outputs": [
    {
     "name": "stdout",
     "output_type": "stream",
     "text": [
      "<tensorflow.python.client.session.InteractiveSession object at 0x11bd042b0>\n"
     ]
    }
   ],
   "source": [
    "print(tf.get_default_session())"
   ]
  },
  {
   "cell_type": "code",
   "execution_count": 16,
   "metadata": {
    "collapsed": true
   },
   "outputs": [],
   "source": [
    "merged = tf.summary.merge_all()\n",
    "train_writer = tf.summary.FileWriter('data/tf_summaries/',\n",
    "                                      sess.graph)\n",
    "\n",
    "summary, bc_loss_val, new_params_vals = sess.run([merged, bc_loss, new_params], feed_dict=input_list_dict)\n",
    "\n",
    "train_writer.add_summary(summary, 0)"
   ]
  },
  {
   "cell_type": "code",
   "execution_count": 17,
   "metadata": {},
   "outputs": [
    {
     "name": "stdout",
     "output_type": "stream",
     "text": [
      "Loss after update 0: 1.887349\n"
     ]
    }
   ],
   "source": [
    "bc_loss_val = sess.run(bc_loss, feed_dict=input_list_dict)\n",
    "print('Loss after update %d: %f' % (0, bc_loss_val))\n",
    "losses = []\n",
    "for i in range(4000):  # for more steps I should \n",
    "    bc_loss_val, new_params_vals = sess.run([bc_loss, new_params], feed_dict=input_list_dict)\n",
    "#     print('Loss after update %d: %f' % (i, bc_loss_val))\n",
    "    policy.assign_params(policy.all_params, new_params_vals)\n",
    "    losses.append(bc_loss_val)"
   ]
  },
  {
   "cell_type": "code",
   "execution_count": 18,
   "metadata": {},
   "outputs": [
    {
     "data": {
      "text/plain": [
       "[<matplotlib.lines.Line2D at 0x12281c710>]"
      ]
     },
     "execution_count": 18,
     "metadata": {},
     "output_type": "execute_result"
    },
    {
     "data": {
      "image/png": "[encoded data removed]",
      "text/plain": [
       "<matplotlib.figure.Figure at 0x12268b5f8>"
      ]
     },
     "metadata": {},
     "output_type": "display_data"
    }
   ],
   "source": [
    "plt.plot(losses)"
   ]
  },
  {
   "cell_type": "code",
   "execution_count": 15,
   "metadata": {},
   "outputs": [
    {
     "data": {
      "text/plain": [
       "{'W0': array([[ 0.1624181 ,  0.20109387,  0.05815131, -0.12478518,  0.22377855,\n",
       "          0.03682695,  0.13967386, -0.18776235, -0.19528288, -0.1286384 ,\n",
       "          0.17570262,  0.15813397, -0.20249058, -0.04088674, -0.08839489,\n",
       "          0.12743491, -0.16480224,  0.05022233, -0.12312045, -0.21165703,\n",
       "         -0.03996677, -0.05402874, -0.22570321,  0.14395826, -0.17848593,\n",
       "         -0.09078903,  0.08944197,  0.22672816,  0.15475474,  0.00190494,\n",
       "         -0.21517263,  0.03965228, -0.0269559 ,  0.00499291, -0.03026136,\n",
       "          0.11493889,  0.11381081,  0.20136344,  0.06688073, -0.06471786,\n",
       "          0.1883046 , -0.07826196, -0.01947171,  0.16834633, -0.16013777,\n",
       "         -0.05747474, -0.23887295,  0.1516527 ,  0.19428866,  0.23161854,\n",
       "         -0.1189959 ,  0.17414145, -0.19108199,  0.17924325, -0.21942537,\n",
       "          0.03902527, -0.05255743, -0.15417062,  0.17045175, -0.17101279,\n",
       "         -0.08440832, -0.10085601,  0.16600874, -0.00739705,  0.16761447,\n",
       "         -0.12505947, -0.12707195,  0.10338611, -0.09498505,  0.18344077,\n",
       "         -0.18647891, -0.05948712,  0.02048979,  0.22480002,  0.00631802,\n",
       "          0.02551258, -0.02216177, -0.09730647, -0.05944369, -0.1177225 ,\n",
       "          0.10170624,  0.10615883, -0.02223982,  0.09396488, -0.10698665,\n",
       "          0.1650707 , -0.0372248 , -0.21093373,  0.21413298, -0.23734103,\n",
       "          0.24000615,  0.06233766,  0.04048247, -0.19535054,  0.12502639,\n",
       "          0.12989782,  0.21326777, -0.12151473, -0.21761689, -0.08054659],\n",
       "        [-0.12607515, -0.2410908 ,  0.22139633,  0.07932373,  0.07225773,\n",
       "          0.06674645,  0.02033231, -0.19959064, -0.09481052, -0.10372939,\n",
       "         -0.16937833, -0.2116264 , -0.01243766,  0.02807713,  0.18302841,\n",
       "         -0.1180668 ,  0.19920918, -0.16984901, -0.23879391, -0.20492178,\n",
       "         -0.11824291,  0.02447276, -0.1799826 ,  0.13601455,  0.19655587,\n",
       "         -0.16899297,  0.22045201, -0.23818798,  0.15299587, -0.21692325,\n",
       "          0.12655468, -0.16703351, -0.22627409, -0.11193504, -0.06530461,\n",
       "          0.08155957, -0.15545835,  0.22356495, -0.18441875,  0.18758377,\n",
       "          0.12952742, -0.08602075,  0.11670519, -0.04036096, -0.10160132,\n",
       "          0.06239584, -0.08607858, -0.1607895 ,  0.08297862,  0.15127784,\n",
       "         -0.07867627,  0.08795716,  0.1397558 , -0.14352329,  0.12455665,\n",
       "         -0.23143004,  0.18199624,  0.22194733,  0.18441911, -0.17098133,\n",
       "         -0.02670067,  0.23322861,  0.24068557,  0.00679847,  0.12019029,\n",
       "         -0.16560498, -0.02281558, -0.15270996,  0.10004608,  0.08647206,\n",
       "          0.00198447,  0.06662304,  0.13303474,  0.02532418,  0.18825234,\n",
       "          0.16449837,  0.07163601,  0.08607952, -0.02441114, -0.15405189,\n",
       "         -0.12988384, -0.18208033,  0.07741591, -0.17030962, -0.22901937,\n",
       "         -0.20220214,  0.17800793,  0.00138584,  0.09877365, -0.03107725,\n",
       "         -0.22577766, -0.1122387 ,  0.0623973 , -0.00475788, -0.22025537,\n",
       "         -0.07913551,  0.10533443, -0.00726483, -0.08711912,  0.00892736]],\n",
       "       dtype=float32),\n",
       " 'W1': array([[ 0.15524678, -0.0452929 ,  0.02482109, ...,  0.1004701 ,\n",
       "          0.10450464, -0.1718682 ],\n",
       "        [-0.027969  , -0.09620696,  0.04977274, ..., -0.1472876 ,\n",
       "          0.0166769 ,  0.1009514 ],\n",
       "        [-0.06085926, -0.06072989,  0.03703429, ...,  0.1655986 ,\n",
       "          0.13372147,  0.09580619],\n",
       "        ...,\n",
       "        [-0.14723186,  0.09671163,  0.06389838, ..., -0.09447215,\n",
       "          0.07210165,  0.07618829],\n",
       "        [-0.05791923,  0.03313244, -0.05261192, ...,  0.14154166,\n",
       "          0.14302352,  0.02630394],\n",
       "        [ 0.02936943, -0.14496373,  0.00059159, ...,  0.07183413,\n",
       "         -0.02345306, -0.1713843 ]], dtype=float32),\n",
       " 'W2': array([[ 0.12323014, -0.14232549],\n",
       "        [-0.06422066, -0.1026983 ],\n",
       "        [ 0.18714073, -0.02880183],\n",
       "        [ 0.02101954,  0.1555611 ],\n",
       "        [-0.15079033,  0.18875591],\n",
       "        [ 0.21628273, -0.11138061],\n",
       "        [ 0.14609887,  0.13190423],\n",
       "        [ 0.22218458,  0.15021583],\n",
       "        [-0.18503423, -0.03117634],\n",
       "        [-0.18233141,  0.20664558],\n",
       "        [ 0.022823  , -0.19238411],\n",
       "        [-0.01514055,  0.1530673 ],\n",
       "        [ 0.01584086, -0.10875846],\n",
       "        [-0.20431781,  0.24143967],\n",
       "        [-0.14096971,  0.2198164 ],\n",
       "        [ 0.11679845, -0.15167612],\n",
       "        [-0.13511026, -0.21208358],\n",
       "        [-0.18049622,  0.05019321],\n",
       "        [ 0.07687629,  0.2151606 ],\n",
       "        [-0.06862869,  0.172133  ],\n",
       "        [ 0.09492511, -0.03272154],\n",
       "        [-0.13056603,  0.08050187],\n",
       "        [ 0.20592669, -0.09862804],\n",
       "        [-0.16407335, -0.23845825],\n",
       "        [ 0.19579144, -0.05193875],\n",
       "        [-0.21349417, -0.152752  ],\n",
       "        [ 0.12355757, -0.21056177],\n",
       "        [ 0.11027928,  0.05933813],\n",
       "        [ 0.19142263,  0.03217294],\n",
       "        [ 0.21252932, -0.20729306],\n",
       "        [ 0.07013474, -0.00778299],\n",
       "        [ 0.06566776, -0.12716156],\n",
       "        [ 0.17459804, -0.20749152],\n",
       "        [ 0.09837791, -0.04003291],\n",
       "        [ 0.06657642, -0.1700195 ],\n",
       "        [ 0.10935255, -0.1941037 ],\n",
       "        [ 0.18017009,  0.17646632],\n",
       "        [-0.23686613,  0.15007088],\n",
       "        [ 0.216193  , -0.13147168],\n",
       "        [ 0.07673206, -0.21849124],\n",
       "        [-0.04619574,  0.20763026],\n",
       "        [ 0.24152154, -0.08664382],\n",
       "        [-0.10930701,  0.18023336],\n",
       "        [ 0.20476983,  0.10558835],\n",
       "        [-0.05666533, -0.15681756],\n",
       "        [-0.19159639,  0.01068044],\n",
       "        [-0.05103675,  0.013424  ],\n",
       "        [ 0.01231021,  0.09734701],\n",
       "        [ 0.0876435 , -0.03149016],\n",
       "        [-0.0590389 ,  0.09466834],\n",
       "        [ 0.07832651, -0.13489102],\n",
       "        [-0.21041244, -0.12957442],\n",
       "        [-0.16910039, -0.15118797],\n",
       "        [-0.17661512,  0.13559946],\n",
       "        [-0.06237437,  0.04733002],\n",
       "        [ 0.13418776, -0.02695913],\n",
       "        [ 0.16922045, -0.16958906],\n",
       "        [-0.0903922 ,  0.12620935],\n",
       "        [-0.20498003, -0.10632517],\n",
       "        [-0.00335082,  0.14561316],\n",
       "        [ 0.22656775,  0.24206613],\n",
       "        [-0.1125678 , -0.23808642],\n",
       "        [ 0.22393902,  0.23993167],\n",
       "        [ 0.04067381, -0.24127677],\n",
       "        [ 0.00107782,  0.24186021],\n",
       "        [ 0.22157973,  0.03919567],\n",
       "        [ 0.0716287 ,  0.07233209],\n",
       "        [-0.17331873, -0.06051297],\n",
       "        [ 0.15062271,  0.0298475 ],\n",
       "        [ 0.00788614,  0.2127449 ],\n",
       "        [ 0.10536183,  0.00661568],\n",
       "        [ 0.08097572,  0.13999395],\n",
       "        [ 0.09274032,  0.06898129],\n",
       "        [ 0.02229231,  0.10349941],\n",
       "        [ 0.04577697, -0.12642461],\n",
       "        [-0.0337132 ,  0.05530314],\n",
       "        [ 0.00915102,  0.18319333],\n",
       "        [ 0.05201949, -0.12359893],\n",
       "        [-0.23020335,  0.14992288],\n",
       "        [-0.16673714,  0.02617758],\n",
       "        [-0.09487359, -0.13878073],\n",
       "        [-0.22699292, -0.03193491],\n",
       "        [ 0.1675221 , -0.15200832],\n",
       "        [ 0.01854125, -0.11520873],\n",
       "        [ 0.15877047,  0.20609036],\n",
       "        [ 0.00571445, -0.1098308 ],\n",
       "        [ 0.16439277, -0.0145009 ],\n",
       "        [-0.03385488,  0.2343311 ],\n",
       "        [ 0.03508642, -0.0986542 ],\n",
       "        [-0.17646427, -0.20685081],\n",
       "        [ 0.17561838, -0.08830749],\n",
       "        [-0.22559261, -0.22903647],\n",
       "        [ 0.0581291 ,  0.06223403],\n",
       "        [ 0.15353352,  0.23187071],\n",
       "        [-0.20382257,  0.08136961],\n",
       "        [-0.24066254,  0.105652  ],\n",
       "        [ 0.01983412, -0.22659007],\n",
       "        [ 0.14145692,  0.0310651 ],\n",
       "        [ 0.20100686,  0.12157989],\n",
       "        [-0.12344554, -0.2321807 ]], dtype=float32),\n",
       " 'b0': array([-3.13185410e-05,  1.18430830e-06, -1.48573054e-05,  5.02973080e-06,\n",
       "        -1.10661949e-05, -1.81275773e-05, -1.77879756e-05,  5.67544657e-06,\n",
       "        -2.77235040e-06,  2.39637006e-06, -9.28203735e-06, -8.62093202e-06,\n",
       "         1.68634665e-06, -8.56603401e-06,  3.59570549e-05,  1.19151055e-05,\n",
       "         6.87655556e-05, -5.42827956e-06,  2.10015833e-06, -5.08999119e-06,\n",
       "        -1.20804509e-06, -3.89519482e-06, -9.13032352e-07,  3.60345002e-05,\n",
       "        -3.48162939e-05, -1.21366566e-06, -7.45712669e-06, -2.37595432e-05,\n",
       "         1.59990941e-05, -1.30734946e-07, -1.30167646e-05, -1.42357317e-06,\n",
       "         1.67091594e-06, -6.74537660e-07,  4.64785035e-06,  1.88659396e-05,\n",
       "         5.19053719e-06, -3.43628453e-05, -2.39225665e-06,  3.25986525e-06,\n",
       "         9.03251657e-06, -7.29293220e-07,  3.94142007e-05,  1.90668816e-05,\n",
       "        -3.06511083e-06, -5.89795418e-05, -5.06120841e-06, -8.19932393e-06,\n",
       "        -3.32389300e-06, -3.69090703e-05, -9.51326399e-07, -1.30933449e-05,\n",
       "         1.58206985e-05, -7.54057055e-07, -2.59535173e-05, -6.48036439e-06,\n",
       "        -1.61913395e-05, -2.63291913e-05, -2.04718563e-05, -7.96531026e-07,\n",
       "        -1.86122259e-06, -1.70104813e-05,  4.58661407e-06,  1.24912385e-05,\n",
       "        -3.06966854e-06, -1.65672100e-06,  3.08302992e-06,  4.52861286e-06,\n",
       "         3.15315310e-06,  5.60542976e-05, -4.69692822e-07, -4.30215950e-05,\n",
       "        -8.22621223e-06, -1.68407485e-06,  1.53999499e-05,  9.70609926e-06,\n",
       "        -2.35108764e-05,  1.38451869e-05,  2.34980644e-06, -2.82230531e-06,\n",
       "         2.74157742e-06,  2.83911800e-06, -2.22301405e-05, -1.31495426e-06,\n",
       "        -3.47642043e-07,  4.41823659e-06, -1.93351443e-05,  5.69117128e-06,\n",
       "        -1.44155465e-05, -2.93398352e-06, -5.66974131e-06,  6.56305838e-06,\n",
       "        -8.28936481e-06,  3.37843744e-06, -2.34439426e-06,  1.80144943e-05,\n",
       "        -3.13833043e-05,  5.23645622e-06, -1.99195165e-06,  1.68905262e-06],\n",
       "       dtype=float32),\n",
       " 'b1': array([-2.5893651e-05, -5.0518679e-06,  0.0000000e+00,  3.1415693e-05,\n",
       "         8.3148894e-05, -7.6753204e-05,  3.7453052e-07, -8.2417237e-06,\n",
       "        -8.6826482e-08,  8.6302796e-05, -5.6304718e-05,  3.7181406e-05,\n",
       "        -2.8795648e-05,  0.0000000e+00,  4.8996968e-05, -5.4918863e-05,\n",
       "        -1.6829850e-05,  1.4698763e-06,  1.1405264e-05,  5.3763801e-05,\n",
       "        -2.9380606e-05,  4.7859969e-05, -7.1098722e-05, -5.5599271e-06,\n",
       "        -5.3008167e-05, -6.5804870e-06, -1.1782471e-05,  2.7212632e-06,\n",
       "        -3.4588007e-05, -7.5102166e-06, -1.7720490e-06, -8.6204163e-06,\n",
       "        -8.4624844e-05, -3.2078337e-05, -7.4917721e-06, -7.5577635e-05,\n",
       "         3.3085837e-06,  2.5748510e-05, -7.7964414e-06, -7.4988900e-05,\n",
       "         5.8525569e-05, -5.2736749e-07,  5.5847490e-06,  6.2835079e-06,\n",
       "        -1.1612843e-05,  2.6544616e-05,  6.3296972e-07,  1.8066319e-05,\n",
       "         0.0000000e+00,  2.9236035e-06, -4.2007728e-06, -2.3542314e-06,\n",
       "        -6.2584236e-06,  3.6322190e-06,  5.2684622e-06, -2.0531648e-05,\n",
       "        -7.7199460e-05,  3.8271774e-06,  2.1313279e-05,  3.4551267e-05,\n",
       "         1.5318867e-05, -3.3040676e-05,  7.8938974e-06, -2.1102414e-05,\n",
       "         5.5910001e-05,  1.4250861e-06,  3.7226562e-06,  2.4676452e-05,\n",
       "        -2.6733665e-05,  4.0730906e-06, -2.1173220e-05,  1.2420297e-05,\n",
       "        -1.7668689e-06,  1.8365179e-05, -4.0937957e-05,  2.1613680e-05,\n",
       "         3.4856478e-06, -4.1406627e-05,  0.0000000e+00,  4.3329663e-05,\n",
       "        -2.4252031e-06,  2.2774984e-06, -7.2736344e-05, -9.1306347e-06,\n",
       "         1.2931191e-05, -2.2371478e-05, -3.9779014e-05,  3.7547317e-05,\n",
       "         0.0000000e+00, -1.0302199e-05, -1.9997663e-06,  1.2356381e-06,\n",
       "        -3.5414581e-07,  1.6412385e-05,  6.4437379e-05,  7.4044699e-05,\n",
       "        -7.7307159e-06, -2.4548917e-05,  0.0000000e+00, -3.5113953e-05],\n",
       "       dtype=float32),\n",
       " 'b2': array([-0.00021571,  0.00027809], dtype=float32),\n",
       " 'std_param': array([-0.0009284 , -0.00089929], dtype=float32)}"
      ]
     },
     "execution_count": 15,
     "metadata": {},
     "output_type": "execute_result"
    }
   ],
   "source": [
    "sess.run(new_params, feed_dict=input_list_dict)"
   ]
  },
  {
   "cell_type": "code",
   "execution_count": 16,
   "metadata": {},
   "outputs": [
    {
     "data": {
      "text/plain": [
       "array([[ 0.1624296 ,  0.2010935 ,  0.05815506, -0.12478635,  0.22378194,\n",
       "         0.03683203,  0.13967904, -0.18776223, -0.19528294, -0.12863836,\n",
       "         0.17570508,  0.1581375 , -0.20249054, -0.04088581, -0.08840632,\n",
       "         0.12743068, -0.1648153 ,  0.05022228, -0.1231204 , -0.21165714,\n",
       "        -0.03996679, -0.05402809, -0.22570322,  0.14394769, -0.1784772 ,\n",
       "        -0.09078906,  0.08944255,  0.22673765,  0.15475252,  0.00190493,\n",
       "        -0.2151708 ,  0.03965223, -0.02695587,  0.00499302, -0.03026126,\n",
       "         0.11493134,  0.11380866,  0.20137382,  0.06688073, -0.06472208,\n",
       "         0.18830189, -0.07826197, -0.019485  ,  0.16833764, -0.16013783,\n",
       "        -0.05745706, -0.23887305,  0.15165514,  0.19428957,  0.23162955,\n",
       "        -0.11899593,  0.17414662, -0.19108501,  0.17924333, -0.21942239,\n",
       "         0.03902534, -0.05255263, -0.15416549,  0.17045799, -0.1710128 ,\n",
       "        -0.08440836, -0.10085224,  0.1660085 , -0.00739963,  0.16761714,\n",
       "        -0.12505952, -0.12707189,  0.10338473, -0.09498699,  0.18342331,\n",
       "        -0.18647891, -0.05947439,  0.02049306,  0.22480103,  0.00631236,\n",
       "         0.02551308, -0.02215311, -0.09731005, -0.05944364, -0.11772256,\n",
       "         0.10170549,  0.10615867, -0.02223313,  0.09396517, -0.10698666,\n",
       "         0.16506925, -0.03721993, -0.21093363,  0.21413833, -0.23734109,\n",
       "         0.24000779,  0.06233644,  0.04048601, -0.19535048,  0.12502742,\n",
       "         0.12989229,  0.21328035, -0.12151461, -0.21761692, -0.08054657],\n",
       "       [-0.12606531, -0.24109104,  0.22140071,  0.07932144,  0.07226107,\n",
       "         0.06675169,  0.02033868, -0.19959056, -0.09481056, -0.10372937,\n",
       "        -0.16937642, -0.21162418, -0.01243752,  0.02807888,  0.18301564,\n",
       "        -0.11807032,  0.19918993, -0.16984907, -0.23879388, -0.20492184,\n",
       "        -0.11824293,  0.02447438, -0.17998262,  0.13600144,  0.19656748,\n",
       "        -0.16899298,  0.22045371, -0.23818047,  0.15299147, -0.21692325,\n",
       "         0.12655875, -0.16703352, -0.22627407, -0.11193503, -0.06530455,\n",
       "         0.08155146, -0.15545967,  0.223577  , -0.18441878,  0.18758187,\n",
       "         0.12952527, -0.08602075,  0.1166912 , -0.04037157, -0.10160136,\n",
       "         0.06241891, -0.08607864, -0.16078767,  0.0829798 ,  0.1512891 ,\n",
       "        -0.07867628,  0.08796242,  0.13974994, -0.14352366,  0.12456396,\n",
       "        -0.2314301 ,  0.1820024 ,  0.22195482,  0.18442559, -0.17098135,\n",
       "        -0.02670069,  0.23323292,  0.24068573,  0.00679438,  0.12019324,\n",
       "        -0.16560501, -0.02281554, -0.1527105 ,  0.10004419,  0.08645311,\n",
       "         0.00198455,  0.06663972,  0.13303867,  0.02532557,  0.18824658,\n",
       "         0.16449726,  0.07164454,  0.08607429, -0.02441111, -0.15405193,\n",
       "        -0.12988414, -0.18208033,  0.07742381, -0.17030954, -0.22901937,\n",
       "        -0.20220298,  0.17801332,  0.00138584,  0.09877926, -0.0310773 ,\n",
       "        -0.22577637, -0.11223902,  0.0623996 , -0.0047579 , -0.22025502,\n",
       "        -0.07914016,  0.10534796, -0.00726473, -0.08711915,  0.00892714]],\n",
       "      dtype=float32)"
      ]
     },
     "execution_count": 16,
     "metadata": {},
     "output_type": "execute_result"
    }
   ],
   "source": [
    "sess.run(params['W0'])"
   ]
  },
  {
   "cell_type": "code",
   "execution_count": null,
   "metadata": {
    "collapsed": true
   },
   "outputs": [],
   "source": []
  },
  {
   "cell_type": "code",
   "execution_count": 11,
   "metadata": {
    "collapsed": true
   },
   "outputs": [],
   "source": [
    "from sandbox.rocky.tf.samplers.batch_sampler import BatchSamplerDemo\n",
    "demo_sampler = BatchSamplerDemo(env=env, policy=demo_policy, batch_size=v['demo_batch_size'], max_path_length=v['max_path_length'],\n",
    "                               discount=v['discount'])"
   ]
  },
  {
   "cell_type": "code",
   "execution_count": 25,
   "metadata": {
    "collapsed": true
   },
   "outputs": [],
   "source": [
    "class SharedGlobal(object):\n",
    "    pass\n",
    "\n",
    "G = SharedGlobal()\n",
    "G.env = env\n",
    "G.policy = policy\n",
    "G.batch_size = v['batch_size']\n",
    "G.max_path_length = v['max_path_length']\n",
    "G.discount = v['discount']\n"
   ]
  },
  {
   "cell_type": "code",
   "execution_count": 26,
   "metadata": {
    "collapsed": true
   },
   "outputs": [],
   "source": [
    "from sandbox.rocky.tf.samplers.batch_sampler import BatchSampler\n",
    "\n",
    "sampler = BatchSampler(algo=G, policy=policy)"
   ]
  },
  {
   "cell_type": "code",
   "execution_count": null,
   "metadata": {
    "collapsed": true
   },
   "outputs": [],
   "source": [
    "sample.obtain_samples()"
   ]
  },
  {
   "cell_type": "code",
   "execution_count": 12,
   "metadata": {},
   "outputs": [
    {
     "name": "stdout",
     "output_type": "stream",
     "text": [
      "2018-03-06 12:07:41.027936 PST | Populating workers...\n",
      "2018-03-06 12:07:41.029638 PST | Populated\n"
     ]
    }
   ],
   "source": [
    "demo_sampler.start_worker()"
   ]
  },
  {
   "cell_type": "code",
   "execution_count": 13,
   "metadata": {},
   "outputs": [
    {
     "name": "stderr",
     "output_type": "stream",
     "text": [
      "0%                          100%\n",
      "[##############################] | ETA: 00:00:00"
     ]
    },
    {
     "name": "stdout",
     "output_type": "stream",
     "text": [
      "[-3.32794229  1.01839073]\n",
      "[-4.81856565  4.61665156]\n",
      "[-3.86445602 -1.31464224]\n",
      "[ 4.54624722 -1.98074481]\n",
      "[-2.17504422 -1.64680233]\n",
      "[-3.20633978  1.5285932 ]\n",
      "[-3.86518924  4.04786999]\n",
      "[-4.80299495  3.10699786]\n",
      "[ 1.58120707 -4.58167656]\n",
      "[0.75078668 4.88966333]\n",
      "[0.16386647 4.84689875]\n",
      "[-4.8568772  -3.32319825]\n",
      "[1.57652179 4.70915673]\n",
      "[4.97337087 2.84418597]\n",
      "[-4.4556233   4.51249795]\n",
      "[-4.34162392  2.49288475]\n"
     ]
    },
    {
     "name": "stderr",
     "output_type": "stream",
     "text": [
      "\n",
      "Total time elapsed: 00:00:00\n"
     ]
    }
   ],
   "source": [
    "paths = demo_sampler.obtain_samples(0)"
   ]
  },
  {
   "cell_type": "code",
   "execution_count": 14,
   "metadata": {
    "collapsed": true
   },
   "outputs": [],
   "source": [
    "learner_env_goals = [p['env_infos']['goal'][0] for p in paths]"
   ]
  }
 ],
 "metadata": {
  "kernelspec": {
   "display_name": "Python 3",
   "language": "python",
   "name": "python3"
  },
  "language_info": {
   "codemirror_mode": {
    "name": "ipython",
    "version": 3
   },
   "file_extension": ".py",
   "mimetype": "text/x-python",
   "name": "python",
   "nbconvert_exporter": "python",
   "pygments_lexer": "ipython3",
   "version": "3.5.2"
  },
  "widgets": {
   "state": {},
   "version": "1.1.2"
  }
 },
 "nbformat": 4,
 "nbformat_minor": 2
}
